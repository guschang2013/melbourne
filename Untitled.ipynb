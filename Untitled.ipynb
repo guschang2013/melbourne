{
 "cells": [
  {
   "cell_type": "code",
   "execution_count": 1,
   "id": "fiscal-influence",
   "metadata": {
    "id": "800f8200-04c9-4d5c-8e24-c99510e40ab4",
    "tags": []
   },
   "outputs": [],
   "source": [
    "# Librerias Generales\n",
    "import os\n",
    "import pandas as pd\n",
    "import sys\n",
    "\n",
    "# Librerias IBM\n",
    "from ibm_watson_machine_learning import APIClient"
   ]
  },
  {
   "cell_type": "code",
   "execution_count": 26,
   "id": "toxic-marks",
   "metadata": {
    "id": "422d1bad-76d2-4d2d-818f-15c21c914370",
    "tags": []
   },
   "outputs": [],
   "source": [
    "#MODELS_ID=(os.environ['MODELS_ID']).split(\",\")\n",
    "MODELS_ID=\"wml_model.Melbournepred2\"\n",
    "#TAG_PROMOTE = os.environ['TAG_PROMOTE']\n",
    "TAG_PROMOTE=\"promote\"\n",
    "\n",
    "WML_CREDENTIALS = {\n",
    "    \"url\":'https://cpd-zen.cp4d-dev-gal-v4-cluster-849478a1386ef788f0a414a729d21abf-0000.us-south.containers.appdomain.cloud',\n",
    "    \"token\": os.environ['USER_ACCESS_TOKEN'],\n",
    "    \"instance_id\": 'openshift',\n",
    "    \"version\" : '4.0'\n",
    "}\n",
    "wml_client = APIClient(WML_CREDENTIALS)"
   ]
  },
  {
   "cell_type": "code",
   "execution_count": 24,
   "id": "minimal-prison",
   "metadata": {
    "id": "6545c6f4-6fe2-4af7-8ed7-7ab9750a76b7",
    "tags": []
   },
   "outputs": [
    {
     "name": "stderr",
     "output_type": "stream",
     "text": [
      "Failure during getting models details. (GET https://cpd-zen.cp4d-dev-gal-v4-cluster-849478a1386ef788f0a414a729d21abf-0000.us-south.containers.appdomain.cloud/ml/v4/models/w?version=2021-06-24&project_id=1670f18a-9ee7-4843-9f45-042b7db1a9b9)\n",
      "Status code: 404, body: {\n",
      "  \"trace\": \"-\",\n",
      "  \"errors\": [{\n",
      "    \"code\": \"not_found\",\n",
      "    \"message\": \"{\\\"code\\\":404,\\\"error\\\":\\\"Not Found\\\",\\\"reason\\\":\\\"Could not read asset metadata\\\",\\\"message\\\":\\\"The requested resource could not be found.\\\"}\"\n",
      "  }],\n",
      "  \"status_code\": \"404\"\n",
      "}\n"
     ]
    },
    {
     "ename": "ApiRequestFailure",
     "evalue": "Failure during getting models details. (GET https://cpd-zen.cp4d-dev-gal-v4-cluster-849478a1386ef788f0a414a729d21abf-0000.us-south.containers.appdomain.cloud/ml/v4/models/w?version=2021-06-24&project_id=1670f18a-9ee7-4843-9f45-042b7db1a9b9)\nStatus code: 404, body: {\n  \"trace\": \"-\",\n  \"errors\": [{\n    \"code\": \"not_found\",\n    \"message\": \"{\\\"code\\\":404,\\\"error\\\":\\\"Not Found\\\",\\\"reason\\\":\\\"Could not read asset metadata\\\",\\\"message\\\":\\\"The requested resource could not be found.\\\"}\"\n  }],\n  \"status_code\": \"404\"\n}",
     "output_type": "error",
     "traceback": [
      "\u001b[0;31m---------------------------------------------------------------------------\u001b[0m",
      "\u001b[0;31mApiRequestFailure\u001b[0m                         Traceback (most recent call last)",
      "\u001b[0;32m<ipython-input-24-3c051f8400d8>\u001b[0m in \u001b[0;36m<module>\u001b[0;34m\u001b[0m\n\u001b[1;32m      2\u001b[0m \u001b[0;34m\u001b[0m\u001b[0m\n\u001b[1;32m      3\u001b[0m \u001b[0;32mfor\u001b[0m \u001b[0mmodel_id\u001b[0m \u001b[0;32min\u001b[0m \u001b[0mMODELS_ID\u001b[0m\u001b[0;34m:\u001b[0m\u001b[0;34m\u001b[0m\u001b[0;34m\u001b[0m\u001b[0m\n\u001b[0;32m----> 4\u001b[0;31m     \u001b[0mmetadata_model\u001b[0m \u001b[0;34m=\u001b[0m \u001b[0mwml_client\u001b[0m\u001b[0;34m.\u001b[0m\u001b[0mrepository\u001b[0m\u001b[0;34m.\u001b[0m\u001b[0mget_model_details\u001b[0m\u001b[0;34m(\u001b[0m\u001b[0mmodel_id\u001b[0m\u001b[0;34m)\u001b[0m\u001b[0;34m\u001b[0m\u001b[0;34m\u001b[0m\u001b[0m\n\u001b[0m\u001b[1;32m      5\u001b[0m     \u001b[0;32mif\u001b[0m \u001b[0;34m'tags'\u001b[0m \u001b[0;32min\u001b[0m \u001b[0mmetadata_model\u001b[0m\u001b[0;34m[\u001b[0m\u001b[0;34m'metadata'\u001b[0m\u001b[0;34m]\u001b[0m\u001b[0;34m:\u001b[0m\u001b[0;34m\u001b[0m\u001b[0;34m\u001b[0m\u001b[0m\n\u001b[1;32m      6\u001b[0m         \u001b[0mmetadata_model\u001b[0m\u001b[0;34m[\u001b[0m\u001b[0;34m'metadata'\u001b[0m\u001b[0;34m]\u001b[0m\u001b[0;34m[\u001b[0m\u001b[0;34m'tags'\u001b[0m\u001b[0;34m]\u001b[0m\u001b[0;34m.\u001b[0m\u001b[0mappend\u001b[0m\u001b[0;34m(\u001b[0m\u001b[0mTAG_PROMOTE\u001b[0m\u001b[0;34m)\u001b[0m\u001b[0;34m\u001b[0m\u001b[0;34m\u001b[0m\u001b[0m\n",
      "\u001b[0;32m/opt/conda/envs/Python-3.8-main/lib/python3.8/site-packages/ibm_watson_machine_learning/repository.py\u001b[0m in \u001b[0;36mget_model_details\u001b[0;34m(self, model_uid, limit, asynchronous, get_all)\u001b[0m\n\u001b[1;32m   1130\u001b[0m         \"\"\"\n\u001b[1;32m   1131\u001b[0m \u001b[0;34m\u001b[0m\u001b[0m\n\u001b[0;32m-> 1132\u001b[0;31m         return self._client._models.get_details(model_uid, limit,\n\u001b[0m\u001b[1;32m   1133\u001b[0m                                                 asynchronous=asynchronous, get_all=get_all)\n\u001b[1;32m   1134\u001b[0m \u001b[0;34m\u001b[0m\u001b[0m\n",
      "\u001b[0;32m/opt/conda/envs/Python-3.8-main/lib/python3.8/site-packages/ibm_watson_machine_learning/models.py\u001b[0m in \u001b[0;36mget_details\u001b[0;34m(self, model_uid, limit, asynchronous, get_all)\u001b[0m\n\u001b[1;32m   1867\u001b[0m \u001b[0;34m\u001b[0m\u001b[0m\n\u001b[1;32m   1868\u001b[0m         \u001b[0;32melse\u001b[0m\u001b[0;34m:\u001b[0m\u001b[0;34m\u001b[0m\u001b[0;34m\u001b[0m\u001b[0m\n\u001b[0;32m-> 1869\u001b[0;31m             \u001b[0;32mreturn\u001b[0m \u001b[0mself\u001b[0m\u001b[0;34m.\u001b[0m\u001b[0m_get_artifact_details\u001b[0m\u001b[0;34m(\u001b[0m\u001b[0murl\u001b[0m\u001b[0;34m,\u001b[0m \u001b[0mmodel_uid\u001b[0m\u001b[0;34m,\u001b[0m \u001b[0mlimit\u001b[0m\u001b[0;34m,\u001b[0m \u001b[0;34m'models'\u001b[0m\u001b[0;34m)\u001b[0m\u001b[0;34m\u001b[0m\u001b[0;34m\u001b[0m\u001b[0m\n\u001b[0m\u001b[1;32m   1870\u001b[0m \u001b[0;34m\u001b[0m\u001b[0m\n\u001b[1;32m   1871\u001b[0m     \u001b[0;34m@\u001b[0m\u001b[0mstaticmethod\u001b[0m\u001b[0;34m\u001b[0m\u001b[0;34m\u001b[0m\u001b[0m\n",
      "\u001b[0;32m/opt/conda/envs/Python-3.8-main/lib/python3.8/site-packages/ibm_watson_machine_learning/wml_resource.py\u001b[0m in \u001b[0;36m_get_artifact_details\u001b[0;34m(self, base_url, uid, limit, resource_name, summary, pre_defined, query_params, _async, _all)\u001b[0m\n\u001b[1;32m    198\u001b[0m             )\n\u001b[1;32m    199\u001b[0m \u001b[0;34m\u001b[0m\u001b[0m\n\u001b[0;32m--> 200\u001b[0;31m             \u001b[0;32mreturn\u001b[0m \u001b[0mself\u001b[0m\u001b[0;34m.\u001b[0m\u001b[0m_handle_response\u001b[0m\u001b[0;34m(\u001b[0m\u001b[0;36m200\u001b[0m\u001b[0;34m,\u001b[0m \u001b[0mop_name\u001b[0m\u001b[0;34m,\u001b[0m \u001b[0mresponse_get\u001b[0m\u001b[0;34m)\u001b[0m\u001b[0;34m\u001b[0m\u001b[0;34m\u001b[0m\u001b[0m\n\u001b[0m\u001b[1;32m    201\u001b[0m \u001b[0;34m\u001b[0m\u001b[0m\n\u001b[1;32m    202\u001b[0m     def _get_with_or_without_limit(self, url, limit, op_name, summary, pre_defined, revision=None,\n",
      "\u001b[0;32m/opt/conda/envs/Python-3.8-main/lib/python3.8/site-packages/ibm_watson_machine_learning/wml_resource.py\u001b[0m in \u001b[0;36m_handle_response\u001b[0;34m(self, expected_status_code, operationName, response, json_response)\u001b[0m\n\u001b[1;32m     71\u001b[0m                 \u001b[0;32mreturn\u001b[0m \u001b[0mresponse\u001b[0m\u001b[0;34m.\u001b[0m\u001b[0mtext\u001b[0m\u001b[0;34m\u001b[0m\u001b[0;34m\u001b[0m\u001b[0m\n\u001b[1;32m     72\u001b[0m         \u001b[0;32melse\u001b[0m\u001b[0;34m:\u001b[0m\u001b[0;34m\u001b[0m\u001b[0;34m\u001b[0m\u001b[0m\n\u001b[0;32m---> 73\u001b[0;31m             \u001b[0;32mraise\u001b[0m \u001b[0mApiRequestFailure\u001b[0m\u001b[0;34m(\u001b[0m\u001b[0;34mu'Failure during {}.'\u001b[0m\u001b[0;34m.\u001b[0m\u001b[0mformat\u001b[0m\u001b[0;34m(\u001b[0m\u001b[0moperationName\u001b[0m\u001b[0;34m)\u001b[0m\u001b[0;34m,\u001b[0m \u001b[0mresponse\u001b[0m\u001b[0;34m)\u001b[0m\u001b[0;34m\u001b[0m\u001b[0;34m\u001b[0m\u001b[0m\n\u001b[0m\u001b[1;32m     74\u001b[0m \u001b[0;34m\u001b[0m\u001b[0m\n\u001b[1;32m     75\u001b[0m     \u001b[0;34m@\u001b[0m\u001b[0mstaticmethod\u001b[0m\u001b[0;34m\u001b[0m\u001b[0;34m\u001b[0m\u001b[0m\n",
      "\u001b[0;31mApiRequestFailure\u001b[0m: Failure during getting models details. (GET https://cpd-zen.cp4d-dev-gal-v4-cluster-849478a1386ef788f0a414a729d21abf-0000.us-south.containers.appdomain.cloud/ml/v4/models/w?version=2021-06-24&project_id=1670f18a-9ee7-4843-9f45-042b7db1a9b9)\nStatus code: 404, body: {\n  \"trace\": \"-\",\n  \"errors\": [{\n    \"code\": \"not_found\",\n    \"message\": \"{\\\"code\\\":404,\\\"error\\\":\\\"Not Found\\\",\\\"reason\\\":\\\"Could not read asset metadata\\\",\\\"message\\\":\\\"The requested resource could not be found.\\\"}\"\n  }],\n  \"status_code\": \"404\"\n}"
     ]
    }
   ],
   "source": [
    "wml_client.set.default_project(os.environ['PROJECT_ID'])\n",
    "\n",
    "for model_id in MODELS_ID:\n",
    "    metadata_model = wml_client.repository.get_model_details(model_id)\n",
    "    if 'tags' in metadata_model['metadata']:\n",
    "        metadata_model['metadata']['tags'].append(TAG_PROMOTE)\n",
    "        list_tags = list(set(metadata_model['metadata']['tags']))\n",
    "    else: list_tags = [TAG_PROMOTE]\n",
    "    \n",
    "    metadata_model = {wml_client.repository.ModelMetaNames.TAGS : list_tags}\n",
    "    wml_client.repository.update_model(model_uid = model_id\n",
    "                                       , updated_meta_props = metadata_model)\n",
    "    print('TAG_PROMOTE added to '+model_id)"
   ]
  },
  {
   "cell_type": "code",
   "execution_count": null,
   "id": "dated-variable",
   "metadata": {
    "id": "d515daae-ffa8-4bed-90fd-35de8bc08080"
   },
   "outputs": [],
   "source": []
  }
 ],
 "metadata": {
  "kernelspec": {
   "display_name": "Python 3.8",
   "language": "python",
   "name": "python3"
  },
  "language_info": {
   "codemirror_mode": {
    "name": "ipython",
    "version": 3
   },
   "file_extension": ".py",
   "mimetype": "text/x-python",
   "name": "python",
   "nbconvert_exporter": "python",
   "pygments_lexer": "ipython3",
   "version": "3.8.11"
  }
 },
 "nbformat": 4,
 "nbformat_minor": 5
}
