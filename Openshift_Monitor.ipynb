{
 "cells": [
  {
   "cell_type": "markdown",
   "id": "thorough-cancer",
   "metadata": {
    "id": "6cc4aa40-663f-4ca0-8d9b-9ff64003dc17"
   },
   "source": [
    "# Esta notebook prepara el json de input para crear un monitor"
   ]
  },
  {
   "cell_type": "code",
   "execution_count": 10,
   "id": "mysterious-bahamas",
   "metadata": {
    "id": "d928ca1e-e515-4b4f-8b2d-d88a94946097",
    "tags": []
   },
   "outputs": [
    {
     "name": "stdout",
     "output_type": "stream",
     "text": [
      "Requirement already satisfied: ibm-watson-openscale in /opt/conda/envs/Python-3.8-main/lib/python3.8/site-packages (3.0.13)\n",
      "Collecting ibm-watson-openscale\n",
      "  Downloading ibm_watson_openscale-3.0.14-py3-none-any.whl (173 kB)\n",
      "\u001b[K     |████████████████████████████████| 173 kB 18.1 MB/s eta 0:00:01\n",
      "\u001b[?25hRequirement already satisfied: pandas>=0.25.3 in /opt/conda/envs/Python-3.8-main/lib/python3.8/site-packages (from ibm-watson-openscale) (1.2.4)\n",
      "Requirement already satisfied: python-dateutil>=2.5.3 in /opt/conda/envs/Python-3.8-main/lib/python3.8/site-packages (from ibm-watson-openscale) (2.8.1)\n",
      "Requirement already satisfied: ibm-cloud-sdk-core==3.10.1 in /opt/conda/envs/Python-3.8-main/lib/python3.8/site-packages (from ibm-watson-openscale) (3.10.1)\n",
      "Requirement already satisfied: requests<3.0,>=2.0 in /opt/conda/envs/Python-3.8-main/lib/python3.8/site-packages (from ibm-watson-openscale) (2.25.1)\n",
      "Requirement already satisfied: PyJWT<3.0.0,>=2.0.1 in /opt/conda/envs/Python-3.8-main/lib/python3.8/site-packages (from ibm-cloud-sdk-core==3.10.1->ibm-watson-openscale) (2.1.0)\n",
      "Requirement already satisfied: pytz>=2017.3 in /opt/conda/envs/Python-3.8-main/lib/python3.8/site-packages (from pandas>=0.25.3->ibm-watson-openscale) (2021.1)\n",
      "Requirement already satisfied: numpy>=1.16.5 in /opt/conda/envs/Python-3.8-main/lib/python3.8/site-packages (from pandas>=0.25.3->ibm-watson-openscale) (1.19.2)\n",
      "Requirement already satisfied: six>=1.5 in /opt/conda/envs/Python-3.8-main/lib/python3.8/site-packages (from python-dateutil>=2.5.3->ibm-watson-openscale) (1.15.0)\n",
      "Requirement already satisfied: certifi>=2017.4.17 in /opt/conda/envs/Python-3.8-main/lib/python3.8/site-packages (from requests<3.0,>=2.0->ibm-watson-openscale) (2021.10.8)\n",
      "Requirement already satisfied: idna<3,>=2.5 in /opt/conda/envs/Python-3.8-main/lib/python3.8/site-packages (from requests<3.0,>=2.0->ibm-watson-openscale) (2.8)\n",
      "Requirement already satisfied: chardet<5,>=3.0.2 in /opt/conda/envs/Python-3.8-main/lib/python3.8/site-packages (from requests<3.0,>=2.0->ibm-watson-openscale) (3.0.4)\n",
      "Requirement already satisfied: urllib3<1.27,>=1.21.1 in /opt/conda/envs/Python-3.8-main/lib/python3.8/site-packages (from requests<3.0,>=2.0->ibm-watson-openscale) (1.26.6)\n",
      "Installing collected packages: ibm-watson-openscale\n",
      "  Attempting uninstall: ibm-watson-openscale\n",
      "    Found existing installation: ibm-watson-openscale 3.0.13\n",
      "    Uninstalling ibm-watson-openscale-3.0.13:\n",
      "      Successfully uninstalled ibm-watson-openscale-3.0.13\n",
      "Successfully installed ibm-watson-openscale-3.0.14\n"
     ]
    }
   ],
   "source": [
    "!pip install --upgrade ibm-watson-openscale"
   ]
  },
  {
   "cell_type": "code",
   "execution_count": 1,
   "id": "viral-software",
   "metadata": {
    "id": "c0376136-586a-4556-9b82-42e3a8029caa",
    "tags": []
   },
   "outputs": [],
   "source": [
    "import pandas as pd\n",
    "# Librerias IBM\n",
    "from ibm_watson_studio_lib import access_project_or_space\n",
    "wslib = access_project_or_space()"
   ]
  },
  {
   "cell_type": "code",
   "execution_count": 8,
   "id": "secondary-experience",
   "metadata": {
    "id": "31de50c6-2345-485b-a21c-98775583b0de",
    "tags": []
   },
   "outputs": [],
   "source": [
    "data_df  = pd.read_csv( wslib.load_data(\"melb_data.csv\"))"
   ]
  },
  {
   "cell_type": "code",
   "execution_count": 3,
   "id": "dutch-charlotte",
   "metadata": {
    "id": "4899f5e9-c7c6-4853-8e9f-8a2fe3f34bcb",
    "tags": []
   },
   "outputs": [],
   "source": [
    "service_configuration_support = {\n",
    "    \"enable_fairness\": False,\n",
    "    \"enable_explainability\": True,\n",
    "    \"enable_drift\": True\n",
    "}"
   ]
  },
  {
   "cell_type": "code",
   "execution_count": 4,
   "id": "numerical-greenhouse",
   "metadata": {
    "id": "4cbcdf2d-6d5e-4e12-a055-507b50ffc254",
    "tags": []
   },
   "outputs": [],
   "source": [
    "training_data_info = {\n",
    "    \"class_label\": \"Price\",\n",
    "    \"feature_columns\": ['Rooms', 'Bathroom', 'Landsize', 'Lattitude', 'Longtitude'],\n",
    "    \"categorical_columns\": []\n",
    "}"
   ]
  },
  {
   "cell_type": "code",
   "execution_count": 5,
   "id": "funded-attitude",
   "metadata": {
    "id": "9aa46286-1c29-404a-a99d-196c45f48a9e",
    "tags": []
   },
   "outputs": [],
   "source": [
    "model_type = \"regression\""
   ]
  },
  {
   "cell_type": "code",
   "execution_count": 6,
   "id": "ranging-associate",
   "metadata": {
    "id": "8abebbb3-830d-4b25-94f6-796f7e36b535",
    "tags": []
   },
   "outputs": [],
   "source": [
    "# min_records = <Minimum number of records to be considered for preforming scoring>\n",
    "min_records = 50\n",
    "# max_records = <Maximum number of records to be considered while computing fairness> [OPTIONAL]\n",
    "max_records = None"
   ]
  },
  {
   "cell_type": "code",
   "execution_count": 10,
   "id": "clean-peripheral",
   "metadata": {
    "id": "9c3c0fbc-86dc-4dd5-83d9-db821836c6f2",
    "tags": []
   },
   "outputs": [],
   "source": [
    "from ibm_watson_openscale.utils.training_stats import TrainingStats\n",
    "VERSION = \"5.3.2\"\n",
    "\n",
    "enable_explainability = service_configuration_support.get(\"enable_explainability\")\n",
    "enable_fairness = service_configuration_support.get(\"enable_fairness\")\n",
    "\n",
    "if enable_explainability or enable_fairness:\n",
    "    fairness_inputs = None\n",
    "    if enable_fairness:\n",
    "        fairness_inputs = {\n",
    "                \"fairness_attributes\": fairness_attributes,\n",
    "                \"min_records\" : min_records,\n",
    "                \"favourable_class\" :  parameters[\"favourable_class\"],\n",
    "                \"unfavourable_class\": parameters[\"unfavourable_class\"]\n",
    "            }\n",
    "        if max_records is not None:\n",
    "            fairness_inputs[\"max_records\"] = max_records\n",
    "    \n",
    "    input_parameters = {\n",
    "        \"label_column\": training_data_info[\"class_label\"],\n",
    "        \"feature_columns\": training_data_info[\"feature_columns\"],\n",
    "        \"categorical_columns\": training_data_info[\"categorical_columns\"],\n",
    "        \"fairness_inputs\": fairness_inputs,  \n",
    "        \"problem_type\" : model_type  \n",
    "    }\n",
    "\n",
    "    training_stats = TrainingStats(data_df,input_parameters, explain=enable_explainability, fairness=enable_fairness, drop_na=True)\n",
    "    config_json = training_stats.get_training_statistics()\n",
    "    config_json[\"notebook_version\"] = VERSION\n",
    "#print(config_json)"
   ]
  },
  {
   "cell_type": "code",
   "execution_count": 11,
   "id": "temporal-johns",
   "metadata": {
    "id": "aad90d25-bb85-41d1-a7cb-104d99d5b2e0",
    "tags": []
   },
   "outputs": [
    {
     "name": "stdout",
     "output_type": "stream",
     "text": [
      "Finished generating training distribution data\n"
     ]
    },
    {
     "data": {
      "text/html": [
       "<a download=\"training_distribution.json\" href=\"data:text/json;base64,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\" target=\"_blank\">Download training data distribution JSON file</a>"
      ],
      "text/plain": [
       "<IPython.core.display.HTML object>"
      ]
     },
     "execution_count": 11,
     "metadata": {},
     "output_type": "execute_result"
    }
   ],
   "source": [
    "import json\n",
    "\n",
    "print(\"Finished generating training distribution data\")\n",
    "\n",
    "# Create a file download link\n",
    "import base64\n",
    "from IPython.display import HTML\n",
    "\n",
    "def create_download_link( title = \"Download training data distribution JSON file\", filename = \"training_distribution.json\"):  \n",
    "    if enable_explainability or enable_fairness:\n",
    "        output_json = json.dumps(config_json, indent=2)\n",
    "        b64 = base64.b64encode(output_json.encode())\n",
    "        payload = b64.decode()\n",
    "        html = '<a download=\"{filename}\" href=\"data:text/json;base64,{payload}\" target=\"_blank\">{title}</a>'\n",
    "        html = html.format(payload=payload,title=title,filename=filename)\n",
    "        return HTML(html)\n",
    "    else:\n",
    "        print(\"No download link generated as fairness/explainability services are disabled.\")\n",
    "\n",
    "create_download_link()"
   ]
  },
  {
   "cell_type": "code",
   "execution_count": 14,
   "id": "embedded-shopper",
   "metadata": {
    "id": "10440ff5-2576-4d1f-baca-0f0a5829ea8b",
    "tags": []
   },
   "outputs": [
    {
     "name": "stdout",
     "output_type": "stream",
     "text": [
      "Collecting ibm-wos-utils\n",
      "  Downloading ibm_wos_utils-4.0.34-cp38-cp38-manylinux_2_5_x86_64.manylinux1_x86_64.manylinux_2_12_x86_64.manylinux2010_x86_64.whl (10.1 MB)\n",
      "\u001b[K     |████████████████████████████████| 10.1 MB 25.1 MB/s eta 0:00:01\n",
      "\u001b[?25hRequirement already satisfied: tqdm in /opt/conda/envs/Python-3.8-main/lib/python3.8/site-packages (from ibm-wos-utils) (4.59.0)\n",
      "Requirement already satisfied: nltk in /opt/conda/envs/Python-3.8-main/lib/python3.8/site-packages (from ibm-wos-utils) (3.6.7)\n",
      "Requirement already satisfied: scikit-image in /opt/conda/envs/Python-3.8-main/lib/python3.8/site-packages (from ibm-wos-utils) (0.16.2)\n",
      "Requirement already satisfied: pandas in /opt/conda/envs/Python-3.8-main/lib/python3.8/site-packages (from ibm-wos-utils) (1.2.4)\n",
      "Collecting scikit-learn==0.24.2\n",
      "  Downloading scikit_learn-0.24.2-cp38-cp38-manylinux2010_x86_64.whl (24.9 MB)\n",
      "\u001b[K     |████████████████████████████████| 24.9 MB 83.9 MB/s eta 0:00:01\n",
      "\u001b[?25hRequirement already satisfied: more-itertools>=8.6.0 in /opt/conda/envs/Python-3.8-main/lib/python3.8/site-packages (from ibm-wos-utils) (8.8.0)\n",
      "Collecting jenkspy\n",
      "  Downloading jenkspy-0.2.0.tar.gz (55 kB)\n",
      "\u001b[K     |████████████████████████████████| 55 kB 5.1 MB/s  eta 0:00:01\n",
      "\u001b[?25hRequirement already satisfied: requests in /opt/conda/envs/Python-3.8-main/lib/python3.8/site-packages (from ibm-wos-utils) (2.25.1)\n",
      "Requirement already satisfied: numpy in /opt/conda/envs/Python-3.8-main/lib/python3.8/site-packages (from ibm-wos-utils) (1.19.2)\n",
      "Requirement already satisfied: scipy>=0.19.1 in /opt/conda/envs/Python-3.8-main/lib/python3.8/site-packages (from scikit-learn==0.24.2->ibm-wos-utils) (1.4.1)\n",
      "Requirement already satisfied: joblib>=0.11 in /opt/conda/envs/Python-3.8-main/lib/python3.8/site-packages (from scikit-learn==0.24.2->ibm-wos-utils) (0.17.0)\n",
      "Requirement already satisfied: threadpoolctl>=2.0.0 in /opt/conda/envs/Python-3.8-main/lib/python3.8/site-packages (from scikit-learn==0.24.2->ibm-wos-utils) (2.1.0)\n",
      "Requirement already satisfied: regex>=2021.8.3 in /opt/conda/envs/Python-3.8-main/lib/python3.8/site-packages (from nltk->ibm-wos-utils) (2021.11.2)\n",
      "Requirement already satisfied: click in /opt/conda/envs/Python-3.8-main/lib/python3.8/site-packages (from nltk->ibm-wos-utils) (7.1.2)\n",
      "Requirement already satisfied: python-dateutil>=2.7.3 in /opt/conda/envs/Python-3.8-main/lib/python3.8/site-packages (from pandas->ibm-wos-utils) (2.8.1)\n",
      "Requirement already satisfied: pytz>=2017.3 in /opt/conda/envs/Python-3.8-main/lib/python3.8/site-packages (from pandas->ibm-wos-utils) (2021.1)\n",
      "Requirement already satisfied: six>=1.5 in /opt/conda/envs/Python-3.8-main/lib/python3.8/site-packages (from python-dateutil>=2.7.3->pandas->ibm-wos-utils) (1.15.0)\n",
      "Requirement already satisfied: chardet<5,>=3.0.2 in /opt/conda/envs/Python-3.8-main/lib/python3.8/site-packages (from requests->ibm-wos-utils) (3.0.4)\n",
      "Requirement already satisfied: certifi>=2017.4.17 in /opt/conda/envs/Python-3.8-main/lib/python3.8/site-packages (from requests->ibm-wos-utils) (2021.10.8)\n",
      "Requirement already satisfied: urllib3<1.27,>=1.21.1 in /opt/conda/envs/Python-3.8-main/lib/python3.8/site-packages (from requests->ibm-wos-utils) (1.26.6)\n",
      "Requirement already satisfied: idna<3,>=2.5 in /opt/conda/envs/Python-3.8-main/lib/python3.8/site-packages (from requests->ibm-wos-utils) (2.8)\n",
      "Requirement already satisfied: imageio>=2.3.0 in /opt/conda/envs/Python-3.8-main/lib/python3.8/site-packages (from scikit-image->ibm-wos-utils) (2.9.0)\n",
      "Requirement already satisfied: PyWavelets>=0.4.0 in /opt/conda/envs/Python-3.8-main/lib/python3.8/site-packages (from scikit-image->ibm-wos-utils) (1.1.1)\n",
      "Requirement already satisfied: pillow>=4.3.0 in /opt/conda/envs/Python-3.8-main/lib/python3.8/site-packages (from scikit-image->ibm-wos-utils) (8.4.0)\n",
      "Requirement already satisfied: networkx>=2.0 in /opt/conda/envs/Python-3.8-main/lib/python3.8/site-packages (from scikit-image->ibm-wos-utils) (2.3)\n",
      "Requirement already satisfied: matplotlib!=3.0.0,>=2.0.0 in /opt/conda/envs/Python-3.8-main/lib/python3.8/site-packages (from scikit-image->ibm-wos-utils) (3.3.4)\n",
      "Requirement already satisfied: kiwisolver>=1.0.1 in /opt/conda/envs/Python-3.8-main/lib/python3.8/site-packages (from matplotlib!=3.0.0,>=2.0.0->scikit-image->ibm-wos-utils) (1.3.1)\n",
      "Requirement already satisfied: cycler>=0.10 in /opt/conda/envs/Python-3.8-main/lib/python3.8/site-packages (from matplotlib!=3.0.0,>=2.0.0->scikit-image->ibm-wos-utils) (0.10.0)\n",
      "Requirement already satisfied: pyparsing!=2.0.4,!=2.1.2,!=2.1.6,>=2.0.3 in /opt/conda/envs/Python-3.8-main/lib/python3.8/site-packages (from matplotlib!=3.0.0,>=2.0.0->scikit-image->ibm-wos-utils) (2.4.7)\n",
      "Requirement already satisfied: decorator>=4.3.0 in /opt/conda/envs/Python-3.8-main/lib/python3.8/site-packages (from networkx>=2.0->scikit-image->ibm-wos-utils) (5.0.9)\n",
      "Building wheels for collected packages: jenkspy\n",
      "  Building wheel for jenkspy (setup.py) ... \u001b[?25ldone\n",
      "\u001b[?25h  Created wheel for jenkspy: filename=jenkspy-0.2.0-cp38-cp38-linux_x86_64.whl size=79170 sha256=e1b3e3e9af10d931f384ef465770314add1f35b6cd23b1823a0861c33f1621c7\n",
      "  Stored in directory: /tmp/1000650000/.cache/pip/wheels/92/c2/4f/4f1d3c2fc01225f2a082ceb80611e2b2fb10cb8fb184d78d91\n",
      "Successfully built jenkspy\n",
      "Installing collected packages: scikit-learn, jenkspy, ibm-wos-utils\n",
      "  Attempting uninstall: scikit-learn\n",
      "    Found existing installation: scikit-learn 0.23.2\n",
      "    Uninstalling scikit-learn-0.23.2:\n",
      "      Successfully uninstalled scikit-learn-0.23.2\n",
      "\u001b[31mERROR: pip's dependency resolver does not currently take into account all the packages that are installed. This behaviour is the source of the following dependency conflicts.\n",
      "autoai-libs 1.12.13 requires scikit-learn<0.24,>=0.20.3, but you have scikit-learn 0.24.2 which is incompatible.\u001b[0m\n",
      "Successfully installed ibm-wos-utils-4.0.34 jenkspy-0.2.0 scikit-learn-0.24.2\n"
     ]
    }
   ],
   "source": [
    "!pip install ibm-wos-utils"
   ]
  },
  {
   "cell_type": "code",
   "execution_count": 16,
   "id": "rough-product",
   "metadata": {
    "id": "6d3175f6-9987-43fd-8fe3-a6bbdaab4cc1",
    "tags": []
   },
   "outputs": [
    {
     "name": "stdout",
     "output_type": "stream",
     "text": [
      "Computing feature stats...: 100%|██████████| 5/5 [00:00<00:00, 98.42features/s]\n",
      "Learning single feature constraints...: 100%|██████████| 8/8 [00:00<00:00, 271.48constraints/s]\n",
      "Learning two feature constraints...: 100%|██████████| 13/13 [00:00<00:00, 56.11constraints/s]\n"
     ]
    }
   ],
   "source": [
    "\n",
    "#Generate drift detection model\n",
    "from ibm_wos_utils.drift.drift_trainer import DriftTrainer\n",
    "#from ibm_watson_openscale.utils.training_stats import DriftTrainer\n",
    "\n",
    "enable_drift = service_configuration_support.get(\"enable_drift\")\n",
    "if enable_drift:\n",
    "    drift_detection_input = {\n",
    "        \"feature_columns\":training_data_info.get(\"feature_columns\"),\n",
    "        \"categorical_columns\":training_data_info.get(\"categorical_columns\"),\n",
    "        \"label_column\": training_data_info.get(\"class_label\"),\n",
    "        \"problem_type\": model_type\n",
    "    }\n",
    "    \n",
    "    drift_trainer = DriftTrainer(data_df,drift_detection_input)\n",
    "    if model_type != \"regression\":\n",
    "        #Note: batch_size can be customized by user as per the training data size\n",
    "        drift_trainer.generate_drift_detection_model(score, batch_size=data_df.shape[0], check_for_ddm_quality=False)\n",
    "        \n",
    "    drift_trainer.learn_constraints(\n",
    "        two_column_learner_limit=200, categorical_unique_threshold=0.8, user_overrides=[])\n",
    "    drift_trainer.create_archive()"
   ]
  },
  {
   "cell_type": "code",
   "execution_count": 17,
   "id": "systematic-welsh",
   "metadata": {
    "id": "d456c390-44a1-43c7-8721-c834e213679b",
    "tags": []
   },
   "outputs": [
    {
     "data": {
      "text/html": [
       "<a download=\"drift_detection_model.tar.gz\" href=\"data:text/json;base64,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\" target=\"_blank\">Download Drift detection model</a>"
      ],
      "text/plain": [
       "<IPython.core.display.HTML object>"
      ]
     },
     "execution_count": 17,
     "metadata": {},
     "output_type": "execute_result"
    }
   ],
   "source": [
    "from IPython.display import HTML\n",
    "import base64\n",
    "import io\n",
    "\n",
    "def create_download_link_for_ddm( title = \"Download Drift detection model\", filename = \"drift_detection_model.tar.gz\"):  \n",
    "    \n",
    "    #Retains stats information    \n",
    "    if enable_drift:\n",
    "        with open(filename,\"rb\") as file:\n",
    "            ddm = file.read()\n",
    "        b64 = base64.b64encode(ddm)\n",
    "        payload = b64.decode()\n",
    "        \n",
    "        html = '<a download=\"{filename}\" href=\"data:text/json;base64,{payload}\" target=\"_blank\">{title}</a>'\n",
    "        html = html.format(payload=payload,title=title,filename=filename)\n",
    "        return HTML(html)\n",
    "    else:\n",
    "        print(\"Drift Detection is not enabled. Please enable and rerun the notebook\")\n",
    "\n",
    "create_download_link_for_ddm()"
   ]
  },
  {
   "cell_type": "code",
   "execution_count": null,
   "id": "manufactured-bedroom",
   "metadata": {
    "id": "0792aa80-0b6c-4741-8a0a-ae2791f9c5eb"
   },
   "outputs": [],
   "source": []
  }
 ],
 "metadata": {
  "kernelspec": {
   "display_name": "Python 3.8",
   "language": "python",
   "name": "python3"
  },
  "language_info": {
   "codemirror_mode": {
    "name": "ipython",
    "version": 3
   },
   "file_extension": ".py",
   "mimetype": "text/x-python",
   "name": "python",
   "nbconvert_exporter": "python",
   "pygments_lexer": "ipython3",
   "version": "3.8.11"
  }
 },
 "nbformat": 4,
 "nbformat_minor": 5
}
